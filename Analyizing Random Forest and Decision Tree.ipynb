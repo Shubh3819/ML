{
  "nbformat": 4,
  "nbformat_minor": 0,
  "metadata": {
    "colab": {
      "provenance": []
    },
    "kernelspec": {
      "name": "python3",
      "display_name": "Python 3"
    },
    "language_info": {
      "name": "python"
    }
  },
  "cells": [
    {
      "cell_type": "code",
      "source": [
        "!pip install opendatasets\n"
      ],
      "metadata": {
        "colab": {
          "base_uri": "https://localhost:8080/"
        },
        "id": "cVFbDiHgQzlT",
        "outputId": "7ef01739-f19c-44ad-860d-9580356285a1"
      },
      "execution_count": 3,
      "outputs": [
        {
          "output_type": "stream",
          "name": "stdout",
          "text": [
            "Collecting opendatasets\n",
            "  Downloading opendatasets-0.1.22-py3-none-any.whl.metadata (9.2 kB)\n",
            "Requirement already satisfied: tqdm in /usr/local/lib/python3.11/dist-packages (from opendatasets) (4.67.1)\n",
            "Requirement already satisfied: kaggle in /usr/local/lib/python3.11/dist-packages (from opendatasets) (1.6.17)\n",
            "Requirement already satisfied: click in /usr/local/lib/python3.11/dist-packages (from opendatasets) (8.1.8)\n",
            "Requirement already satisfied: six>=1.10 in /usr/local/lib/python3.11/dist-packages (from kaggle->opendatasets) (1.17.0)\n",
            "Requirement already satisfied: certifi>=2023.7.22 in /usr/local/lib/python3.11/dist-packages (from kaggle->opendatasets) (2025.1.31)\n",
            "Requirement already satisfied: python-dateutil in /usr/local/lib/python3.11/dist-packages (from kaggle->opendatasets) (2.8.2)\n",
            "Requirement already satisfied: requests in /usr/local/lib/python3.11/dist-packages (from kaggle->opendatasets) (2.32.3)\n",
            "Requirement already satisfied: python-slugify in /usr/local/lib/python3.11/dist-packages (from kaggle->opendatasets) (8.0.4)\n",
            "Requirement already satisfied: urllib3 in /usr/local/lib/python3.11/dist-packages (from kaggle->opendatasets) (2.3.0)\n",
            "Requirement already satisfied: bleach in /usr/local/lib/python3.11/dist-packages (from kaggle->opendatasets) (6.2.0)\n",
            "Requirement already satisfied: webencodings in /usr/local/lib/python3.11/dist-packages (from bleach->kaggle->opendatasets) (0.5.1)\n",
            "Requirement already satisfied: text-unidecode>=1.3 in /usr/local/lib/python3.11/dist-packages (from python-slugify->kaggle->opendatasets) (1.3)\n",
            "Requirement already satisfied: charset-normalizer<4,>=2 in /usr/local/lib/python3.11/dist-packages (from requests->kaggle->opendatasets) (3.4.1)\n",
            "Requirement already satisfied: idna<4,>=2.5 in /usr/local/lib/python3.11/dist-packages (from requests->kaggle->opendatasets) (3.10)\n",
            "Downloading opendatasets-0.1.22-py3-none-any.whl (15 kB)\n",
            "Installing collected packages: opendatasets\n",
            "Successfully installed opendatasets-0.1.22\n"
          ]
        }
      ]
    },
    {
      "cell_type": "code",
      "source": [
        "import opendatasets as od\n",
        "od.download(\"https://www.kaggle.com/datasets/muratkokludataset/pumpkin-seeds-dataset\")"
      ],
      "metadata": {
        "colab": {
          "base_uri": "https://localhost:8080/"
        },
        "id": "g_moAI-vQ3kQ",
        "outputId": "47edf26e-0619-487c-960e-1b3bd222e2ab"
      },
      "execution_count": 4,
      "outputs": [
        {
          "output_type": "stream",
          "name": "stdout",
          "text": [
            "Please provide your Kaggle credentials to download this dataset. Learn more: http://bit.ly/kaggle-creds\n",
            "Your Kaggle username: subhrangshu3819\n",
            "Your Kaggle Key: ··········\n",
            "Dataset URL: https://www.kaggle.com/datasets/muratkokludataset/pumpkin-seeds-dataset\n",
            "Downloading pumpkin-seeds-dataset.zip to ./pumpkin-seeds-dataset\n"
          ]
        },
        {
          "output_type": "stream",
          "name": "stderr",
          "text": [
            "100%|██████████| 393k/393k [00:00<00:00, 93.7MB/s]"
          ]
        },
        {
          "output_type": "stream",
          "name": "stdout",
          "text": [
            "\n"
          ]
        },
        {
          "output_type": "stream",
          "name": "stderr",
          "text": [
            "\n"
          ]
        }
      ]
    },
    {
      "cell_type": "code",
      "source": [
        "# Import necessary libraries\n",
        "import pandas as pd\n",
        "import numpy as np\n",
        "import matplotlib.pyplot as plt\n",
        "import seaborn as sns\n",
        "from sklearn.model_selection import train_test_split\n",
        "from sklearn.preprocessing import LabelEncoder, StandardScaler\n",
        "from sklearn.tree import DecisionTreeClassifier\n",
        "from sklearn.ensemble import RandomForestClassifier\n",
        "from sklearn.metrics import accuracy_score, classification_report, confusion_matrix\n",
        "\n",
        "# Load the dataset from the .xlsx file\n",
        "file_path = \"pumpkin-seeds-dataset/Pumpkin_Seeds_Dataset/Pumpkin_Seeds_Dataset.xlsx\"  # Change this to your file location\n",
        "df = pd.read_excel(file_path)\n",
        "\n",
        "# Display the first few rows of the dataset\n",
        "print(df.head())\n",
        "\n",
        "# Check for missing values\n",
        "print(\"\\nMissing values in each column:\\n\", df.isnull().sum())\n",
        "\n",
        "# Encode categorical target variable if needed\n",
        "label_encoder = LabelEncoder()\n",
        "df['Class'] = label_encoder.fit_transform(df['Class'])  # Convert class labels to numerical format\n",
        "\n",
        "# Define features and target variable\n",
        "X = df.drop(columns=['Class'])  # Independent variables (features)\n",
        "y = df['Class']  # Dependent variable (target)\n",
        "\n",
        "# Split dataset into 80% training and 20% testing\n",
        "X_train, X_test, y_train, y_test = train_test_split(X, y, test_size=0.2, random_state=42)\n",
        "\n",
        "# Standardize the features for better model performance\n",
        "scaler = StandardScaler()\n",
        "X_train = scaler.fit_transform(X_train)\n",
        "X_test = scaler.transform(X_test)\n",
        "\n",
        "# Train Decision Tree Classifier\n",
        "dt_model = DecisionTreeClassifier(random_state=42)\n",
        "dt_model.fit(X_train, y_train)\n",
        "y_pred_dt = dt_model.predict(X_test)\n",
        "\n",
        "# Train Random Forest Classifier\n",
        "rf_model = RandomForestClassifier(n_estimators=100, random_state=42)\n",
        "rf_model.fit(X_train, y_train)\n",
        "y_pred_rf = rf_model.predict(X_test)\n",
        "\n",
        "# Evaluate models\n",
        "dt_accuracy = accuracy_score(y_test, y_pred_dt)\n",
        "rf_accuracy = accuracy_score(y_test, y_pred_rf)\n",
        "\n",
        "print(f\"\\nDecision Tree Accuracy: {dt_accuracy:.4f}\")\n",
        "print(f\"Random Forest Accuracy: {rf_accuracy:.4f}\")\n",
        "\n",
        "# Print Classification Reports\n",
        "print(\"\\nDecision Tree Classification Report:\\n\", classification_report(y_test, y_pred_dt))\n",
        "print(\"\\nRandom Forest Classification Report:\\n\", classification_report(y_test, y_pred_rf))\n",
        "\n",
        "# Visualize Confusion Matrices\n",
        "fig, axes = plt.subplots(1, 2, figsize=(12, 5))\n",
        "\n",
        "sns.heatmap(confusion_matrix(y_test, y_pred_dt), annot=True, cmap='Blues', fmt='d', ax=axes[0])\n",
        "axes[0].set_title(\"Decision Tree Confusion Matrix\")\n",
        "\n",
        "sns.heatmap(confusion_matrix(y_test, y_pred_rf), annot=True, cmap='Greens', fmt='d', ax=axes[1])\n",
        "axes[1].set_title(\"Random Forest Confusion Matrix\")\n",
        "\n",
        "plt.show()\n"
      ],
      "metadata": {
        "colab": {
          "base_uri": "https://localhost:8080/",
          "height": 1000
        },
        "id": "ii5ipcN3RQ7S",
        "outputId": "12a1d5e9-d037-4995-b004-f5b0f997bd88"
      },
      "execution_count": 7,
      "outputs": [
        {
          "output_type": "stream",
          "name": "stdout",
          "text": [
            "    Area  Perimeter  Major_Axis_Length  Minor_Axis_Length  Convex_Area  \\\n",
            "0  56276    888.242           326.1485           220.2388        56831   \n",
            "1  76631   1068.146           417.1932           234.2289        77280   \n",
            "2  71623   1082.987           435.8328           211.0457        72663   \n",
            "3  66458    992.051           381.5638           222.5322        67118   \n",
            "4  66107    998.146           383.8883           220.4545        67117   \n",
            "\n",
            "   Equiv_Diameter  Eccentricity  Solidity  Extent  Roundness  Aspect_Ration  \\\n",
            "0        267.6805        0.7376    0.9902  0.7453     0.8963         1.4809   \n",
            "1        312.3614        0.8275    0.9916  0.7151     0.8440         1.7811   \n",
            "2        301.9822        0.8749    0.9857  0.7400     0.7674         2.0651   \n",
            "3        290.8899        0.8123    0.9902  0.7396     0.8486         1.7146   \n",
            "4        290.1207        0.8187    0.9850  0.6752     0.8338         1.7413   \n",
            "\n",
            "   Compactness       Class  \n",
            "0       0.8207  Çerçevelik  \n",
            "1       0.7487  Çerçevelik  \n",
            "2       0.6929  Çerçevelik  \n",
            "3       0.7624  Çerçevelik  \n",
            "4       0.7557  Çerçevelik  \n",
            "\n",
            "Missing values in each column:\n",
            " Area                 0\n",
            "Perimeter            0\n",
            "Major_Axis_Length    0\n",
            "Minor_Axis_Length    0\n",
            "Convex_Area          0\n",
            "Equiv_Diameter       0\n",
            "Eccentricity         0\n",
            "Solidity             0\n",
            "Extent               0\n",
            "Roundness            0\n",
            "Aspect_Ration        0\n",
            "Compactness          0\n",
            "Class                0\n",
            "dtype: int64\n",
            "\n",
            "Decision Tree Accuracy: 0.8120\n",
            "Random Forest Accuracy: 0.8660\n",
            "\n",
            "Decision Tree Classification Report:\n",
            "               precision    recall  f1-score   support\n",
            "\n",
            "           0       0.81      0.82      0.81       251\n",
            "           1       0.81      0.81      0.81       249\n",
            "\n",
            "    accuracy                           0.81       500\n",
            "   macro avg       0.81      0.81      0.81       500\n",
            "weighted avg       0.81      0.81      0.81       500\n",
            "\n",
            "\n",
            "Random Forest Classification Report:\n",
            "               precision    recall  f1-score   support\n",
            "\n",
            "           0       0.86      0.87      0.87       251\n",
            "           1       0.87      0.86      0.86       249\n",
            "\n",
            "    accuracy                           0.87       500\n",
            "   macro avg       0.87      0.87      0.87       500\n",
            "weighted avg       0.87      0.87      0.87       500\n",
            "\n"
          ]
        },
        {
          "output_type": "display_data",
          "data": {
            "text/plain": [
              "<Figure size 1200x500 with 4 Axes>"
            ],
            "image/png": "[encoded data removed]"
          },
          "metadata": {}
        }
      ]
    }
  ]
}
